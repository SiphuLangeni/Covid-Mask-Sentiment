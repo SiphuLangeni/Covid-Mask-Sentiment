{
 "cells": [
  {
   "cell_type": "code",
   "execution_count": 1,
   "metadata": {},
   "outputs": [],
   "source": [
    "import tweepy\n",
    "from os import environ"
   ]
  },
  {
   "cell_type": "code",
   "execution_count": 2,
   "metadata": {},
   "outputs": [],
   "source": [
    "# API keys from .env\n",
    "consumer_key = environ.get('CONSUMER_KEY')\n",
    "consumer_secret = environ.get('CONSUMER_SECRET')\n",
    "access_token = environ.get('ACCESS_TOKEN')\n",
    "access_token_secret = environ.get('ACCESS_TOKEN_SECRET')"
   ]
  },
  {
   "cell_type": "code",
   "execution_count": 3,
   "metadata": {
    "scrolled": true
   },
   "outputs": [],
   "source": [
    "# Authentication\n",
    "auth = tweepy.OAuthHandler(consumer_key, consumer_secret)\n",
    "auth.set_access_token(access_token, access_token_secret)"
   ]
  },
  {
   "cell_type": "code",
   "execution_count": 4,
   "metadata": {},
   "outputs": [],
   "source": [
    "# Access Twitter RESTful API\n",
    "api = tweepy.API(auth)"
   ]
  },
  {
   "cell_type": "code",
   "execution_count": 5,
   "metadata": {},
   "outputs": [
    {
     "name": "stdout",
     "output_type": "stream",
     "text": [
      "Create Landing Pages For Your Projects With GitHub Pages by @naveenv_92  https://t.co/ZtgSPQykPp\n",
      "Predicting Yu Darvish’s pitching without hitting the trash can by C Kuan  https://t.co/IbQwXqMslf\n",
      "WSDM — KKBox’s Music Recommendation Challange by Khushali Vaghani https://t.co/TIbbVXgGFH\n",
      "Artificial Intelligence Is Powerful — And Misunderstood by @kaifulee https://t.co/HNX0fWlmyv #ArtificialInteligence #AI #TDSPick\n",
      "Deploy_Azure by @amjadraza24  https://t.co/xwklCUaHcK\n",
      "Lets Get Artsy! Creating Custom Snapchat Filters With Neural Networks! by Mehrabi Hasan https://t.co/icVB0JA4pd\n",
      "Anomaly detection in monitored systems (part 1) by Yonatankarimish  https://t.co/XVjs6qjt2p\n",
      "Spamilton: Text Generation  with LSTMs and Hamilton Lyrics by Drew Perkins https://t.co/kfZfZkpWD3\n",
      "Cost functions of Regression and its Optimization Techniques in Machine Learning by Srivignesh Rajan  https://t.co/SYiAUmCLDX\n",
      "Predicting California Wildfire Size with Neural Networks: Building A Machine Learning Project From… by Ricky Corder… https://t.co/Sih5I9ytEC\n",
      "Has AI Hit a Dead-End? by @james2pl  https://t.co/JsFLgTOYxj\n",
      "Array Order and Permute() in MATLAB by CJ Della Porta  https://t.co/F8EUMI86qS\n",
      "Every Machine Learning Algorithm Can Be Represented as a Neural Network by Andre Ye https://t.co/yEVJ5bDs2p\n",
      "RT @HarjitSajjan: If you’re willing, able &amp; healthy— consider donating blood to @Canadaslifeline. There are over 1300 appointments that nee…\n",
      "Domain Adaptation in Breast Cancer Detection by Arjun Rao  https://t.co/zlSTkaI77i\n",
      "50 Must-Read #Free #Books For Every #DataScientist in 2020 #KDN https://t.co/POIbeh4ZYy\n",
      "Types of Machine Learning by @laura_uzcategui  https://t.co/tv3YqkS6PZ\n",
      "#MachineLearning Explainability vs Interpretability: Two concepts that could help restore trust in AI #KDN https://t.co/GqbNWnPBee\n",
      "Designing a Relational Database and Creating an Entity Relationship Diagram by Craig Dickson https://t.co/ViOOXmCZpV\n",
      "Deploy #MachineLearning Pipeline on AWS Fargate #KDN https://t.co/GqTRp8UhmH\n"
     ]
    }
   ],
   "source": [
    "# View public tweets from timeline\n",
    "public_tweets = api.home_timeline()\n",
    "for tweet in public_tweets:\n",
    "    print(tweet.text)"
   ]
  },
  {
   "cell_type": "code",
   "execution_count": null,
   "metadata": {},
   "outputs": [],
   "source": []
  }
 ],
 "metadata": {
  "kernelspec": {
   "display_name": "Python 3",
   "language": "python",
   "name": "python3"
  },
  "language_info": {
   "codemirror_mode": {
    "name": "ipython",
    "version": 3
   },
   "file_extension": ".py",
   "mimetype": "text/x-python",
   "name": "python",
   "nbconvert_exporter": "python",
   "pygments_lexer": "ipython3",
   "version": "3.7.3"
  }
 },
 "nbformat": 4,
 "nbformat_minor": 4
}
