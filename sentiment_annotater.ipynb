{
 "cells": [
  {
   "cell_type": "code",
   "execution_count": 1,
   "metadata": {},
   "outputs": [],
   "source": [
    "from datetime import datetime\n",
    "import pandas as pd\n",
    "import ipywidgets as widgets\n",
    "from ipywidgets import HTML\n",
    "from IPython.display import display, clear_output"
   ]
  },
  {
   "cell_type": "markdown",
   "metadata": {},
   "source": [
    "Created a pandas dataframe from Postgres database  \n",
    "df = pd.read_sql_query('select * from \"tweets\"', con=engine)  \n",
    "Saved as csv"
   ]
  },
  {
   "cell_type": "code",
   "execution_count": 2,
   "metadata": {},
   "outputs": [],
   "source": [
    "df = pd.read_csv('df.csv')"
   ]
  },
  {
   "cell_type": "code",
   "execution_count": 3,
   "metadata": {},
   "outputs": [
    {
     "data": {
      "text/html": [
       "<div>\n",
       "<style scoped>\n",
       "    .dataframe tbody tr th:only-of-type {\n",
       "        vertical-align: middle;\n",
       "    }\n",
       "\n",
       "    .dataframe tbody tr th {\n",
       "        vertical-align: top;\n",
       "    }\n",
       "\n",
       "    .dataframe thead th {\n",
       "        text-align: right;\n",
       "    }\n",
       "</style>\n",
       "<table border=\"1\" class=\"dataframe\">\n",
       "  <thead>\n",
       "    <tr style=\"text-align: right;\">\n",
       "      <th></th>\n",
       "      <th>id</th>\n",
       "      <th>date_created</th>\n",
       "      <th>tweet_id</th>\n",
       "      <th>tweet</th>\n",
       "      <th>hashtags</th>\n",
       "    </tr>\n",
       "  </thead>\n",
       "  <tbody>\n",
       "    <tr>\n",
       "      <th>0</th>\n",
       "      <td>1</td>\n",
       "      <td>Fri Jul 31 17:17:54 +0000 2020</td>\n",
       "      <td>1289248935672868866</td>\n",
       "      <td>And you lying to the few viewers you have abou...</td>\n",
       "      <td>{CuomoPrivilege}</td>\n",
       "    </tr>\n",
       "    <tr>\n",
       "      <th>1</th>\n",
       "      <td>2</td>\n",
       "      <td>Fri Jul 31 17:17:54 +0000 2020</td>\n",
       "      <td>1289248939267379200</td>\n",
       "      <td>As we enter the fifth month of masks, social d...</td>\n",
       "      <td>{}</td>\n",
       "    </tr>\n",
       "    <tr>\n",
       "      <th>2</th>\n",
       "      <td>3</td>\n",
       "      <td>Fri Jul 31 17:18:04 +0000 2020</td>\n",
       "      <td>1289248977813004289</td>\n",
       "      <td>Skin So Soft Original Dry Oil Spray - Limited ...</td>\n",
       "      <td>{avon,skinsosoft,skincare,dryoilspray,jojobaoi...</td>\n",
       "    </tr>\n",
       "    <tr>\n",
       "      <th>3</th>\n",
       "      <td>4</td>\n",
       "      <td>Fri Jul 31 17:18:05 +0000 2020</td>\n",
       "      <td>1289248985371140096</td>\n",
       "      <td>If #Covid_19 was visible as a green cloud, peo...</td>\n",
       "      <td>{Covid_19,CovidHearing,fridaymorning,lockdowne...</td>\n",
       "    </tr>\n",
       "    <tr>\n",
       "      <th>4</th>\n",
       "      <td>5</td>\n",
       "      <td>Fri Jul 31 17:18:05 +0000 2020</td>\n",
       "      <td>1289248985547300864</td>\n",
       "      <td>From the 1st day of the pandemic, some of us i...</td>\n",
       "      <td>{}</td>\n",
       "    </tr>\n",
       "  </tbody>\n",
       "</table>\n",
       "</div>"
      ],
      "text/plain": [
       "   id                    date_created             tweet_id  \\\n",
       "0   1  Fri Jul 31 17:17:54 +0000 2020  1289248935672868866   \n",
       "1   2  Fri Jul 31 17:17:54 +0000 2020  1289248939267379200   \n",
       "2   3  Fri Jul 31 17:18:04 +0000 2020  1289248977813004289   \n",
       "3   4  Fri Jul 31 17:18:05 +0000 2020  1289248985371140096   \n",
       "4   5  Fri Jul 31 17:18:05 +0000 2020  1289248985547300864   \n",
       "\n",
       "                                               tweet  \\\n",
       "0  And you lying to the few viewers you have abou...   \n",
       "1  As we enter the fifth month of masks, social d...   \n",
       "2  Skin So Soft Original Dry Oil Spray - Limited ...   \n",
       "3  If #Covid_19 was visible as a green cloud, peo...   \n",
       "4  From the 1st day of the pandemic, some of us i...   \n",
       "\n",
       "                                            hashtags  \n",
       "0                                   {CuomoPrivilege}  \n",
       "1                                                 {}  \n",
       "2  {avon,skinsosoft,skincare,dryoilspray,jojobaoi...  \n",
       "3  {Covid_19,CovidHearing,fridaymorning,lockdowne...  \n",
       "4                                                 {}  "
      ]
     },
     "execution_count": 3,
     "metadata": {},
     "output_type": "execute_result"
    }
   ],
   "source": [
    "df.head()"
   ]
  },
  {
   "cell_type": "markdown",
   "metadata": {},
   "source": [
    "Function the chooses a number of text items to annotate.\n",
    "* consider random selection\n",
    "* consider if already selected, how do you not select it again (if id not in annotation_df.id)\n",
    "* use widgets to impute data into the function text widget and slider"
   ]
  },
  {
   "cell_type": "code",
   "execution_count": 4,
   "metadata": {},
   "outputs": [],
   "source": [
    "def subset_df(df, primary_key, text_column, num_records):\n",
    "    '''\n",
    "    Subsets the dataframe by the primary key and text columns with a chosen number of records.\n",
    "    '''\n",
    "    subset_df = df[[primary_key, text_column]][:num_records]\n",
    "    return subset_df"
   ]
  },
  {
   "cell_type": "code",
   "execution_count": 5,
   "metadata": {
    "scrolled": true
   },
   "outputs": [
    {
     "data": {
      "text/html": [
       "<div>\n",
       "<style scoped>\n",
       "    .dataframe tbody tr th:only-of-type {\n",
       "        vertical-align: middle;\n",
       "    }\n",
       "\n",
       "    .dataframe tbody tr th {\n",
       "        vertical-align: top;\n",
       "    }\n",
       "\n",
       "    .dataframe thead th {\n",
       "        text-align: right;\n",
       "    }\n",
       "</style>\n",
       "<table border=\"1\" class=\"dataframe\">\n",
       "  <thead>\n",
       "    <tr style=\"text-align: right;\">\n",
       "      <th></th>\n",
       "      <th>id</th>\n",
       "      <th>tweet</th>\n",
       "    </tr>\n",
       "  </thead>\n",
       "  <tbody>\n",
       "    <tr>\n",
       "      <th>0</th>\n",
       "      <td>1</td>\n",
       "      <td>And you lying to the few viewers you have abou...</td>\n",
       "    </tr>\n",
       "    <tr>\n",
       "      <th>1</th>\n",
       "      <td>2</td>\n",
       "      <td>As we enter the fifth month of masks, social d...</td>\n",
       "    </tr>\n",
       "    <tr>\n",
       "      <th>2</th>\n",
       "      <td>3</td>\n",
       "      <td>Skin So Soft Original Dry Oil Spray - Limited ...</td>\n",
       "    </tr>\n",
       "  </tbody>\n",
       "</table>\n",
       "</div>"
      ],
      "text/plain": [
       "   id                                              tweet\n",
       "0   1  And you lying to the few viewers you have abou...\n",
       "1   2  As we enter the fifth month of masks, social d...\n",
       "2   3  Skin So Soft Original Dry Oil Spray - Limited ..."
      ]
     },
     "execution_count": 5,
     "metadata": {},
     "output_type": "execute_result"
    }
   ],
   "source": [
    "subset_df = subset_df(df, 'id', 'tweet', 3) \n",
    "subset_df.head()"
   ]
  },
  {
   "cell_type": "code",
   "execution_count": 6,
   "metadata": {
    "scrolled": true
   },
   "outputs": [],
   "source": [
    "try:\n",
    "    annotations = annotations\n",
    "    \n",
    "except:\n",
    "    columns = ['id','label','date_annotated']\n",
    "    annotations = pd.DataFrame(columns=columns)\n",
    "    \n",
    "annotation_index = 0\n",
    "\n",
    "label = []\n",
    "date_annotated = []\n",
    "\n",
    "def load_annotations():\n",
    "    '''\n",
    "    Displays texts to be annotated and loads user inputted labels and timestamp to dataframe.\n",
    "    '''\n",
    "\n",
    "    instructions = widgets.HTML(\"<b>Click on the appropriate sentiment for the text below:</b>\")\n",
    "    text = HTML(subset_df.iloc[annotation_index, 1])\n",
    "    positive_button = widgets.Button(description='Positive')\n",
    "    negative_button = widgets.Button(description='Negative')\n",
    "    neutral_button = widgets.Button(description='Neutral')\n",
    "    skip_button = widgets.Button(description='Skip')\n",
    "    confirm_button = widgets.Button(description='Confirm selection')\n",
    "    redo_button = widgets.Button(description='Try again')\n",
    "    sentiment_buttons = widgets.HBox([positive_button, negative_button, neutral_button, skip_button])\n",
    "    confirmation_buttons = widgets.HBox([confirm_button, redo_button])\n",
    "    output = widgets.Output()\n",
    "\n",
    "    display(instructions, text, sentiment_buttons, confirmation_buttons, output)\n",
    "    confirmation_buttons.layout.visibility = 'hidden'    \n",
    "\n",
    "\n",
    "    def sentiment_button_clicked(button):\n",
    "        label.append(str(button.description).lower())\n",
    "        date_annotated.append(datetime.now().strftime('%Y-%m-%d %H:%M:%S'))\n",
    "        \n",
    "        with output:\n",
    "            clear_output(True)\n",
    "            sentiment_buttons.layout.visibility = 'hidden'\n",
    "            print('The text has', str(button.description).lower(), 'sentiment.')\n",
    "            confirmation_buttons.layout.visibility = 'visible'\n",
    "\n",
    "    positive_button.on_click(sentiment_button_clicked)\n",
    "    negative_button.on_click(sentiment_button_clicked)\n",
    "    neutral_button.on_click(sentiment_button_clicked)\n",
    "    \n",
    "    def skip_button_clicked(button):\n",
    "        label.append(None)\n",
    "        date_annotated.append(datetime.now().strftime('%Y-%m-%d %H:%M:%S'))\n",
    "        \n",
    "        with output:\n",
    "            clear_output(True)\n",
    "            sentiment_buttons.layout.visibility = 'hidden'\n",
    "            print('This action will add a Null value to the label for this record.')\n",
    "            confirmation_buttons.layout.visibility = 'visible'\n",
    "        \n",
    "    skip_button.on_click(skip_button_clicked)\n",
    "\n",
    "    def confirm_button_clicked(button):\n",
    "        global annotation_index\n",
    "        global annotations\n",
    "        if annotation_index < len(subset_df) - 1:\n",
    "            annotation_index += 1\n",
    "            clear_output(True)\n",
    "            load_annotations()\n",
    "        else:\n",
    "            clear_output(True)\n",
    "            display(HTML('<h3>Annotations are done.</h3><br><i>annotation_df = new_df will bring up your annotations.</i>'))\n",
    "            new_df = pd.DataFrame({\n",
    "                'id': subset_df.iloc[:, 0].tolist(),\n",
    "                'label': label,\n",
    "                'date_annotated': date_annotated\n",
    "            })\n",
    "            annotations = annotations.append(new_df)\n",
    "            \n",
    "\n",
    "    confirm_button.on_click(confirm_button_clicked)\n",
    "    \n",
    "    def redo_button_clicked(button):\n",
    "        del label[-1]\n",
    "        del date_annotated[-1]\n",
    "        with output:\n",
    "            clear_output(True)\n",
    "            sentiment_buttons.layout.visibility = 'visible'\n",
    "            print('Please try again.')\n",
    "            confirmation_buttons.layout.visibility = 'hidden'\n",
    "            \n",
    "\n",
    "    redo_button.on_click(redo_button_clicked)"
   ]
  },
  {
   "cell_type": "markdown",
   "metadata": {},
   "source": [
    "This will provide a user interface to annotate tweets.  \n",
    "* add a progress bar to show progress of annotations"
   ]
  },
  {
   "cell_type": "code",
   "execution_count": 7,
   "metadata": {},
   "outputs": [
    {
     "data": {
      "application/vnd.jupyter.widget-view+json": {
       "model_id": "a825c749d848474b973cb34f7481cb9d",
       "version_major": 2,
       "version_minor": 0
      },
      "text/plain": [
       "HTML(value='<h3>Annotations are done.</h3><br><i>annotation_df = new_df will bring up your annotations.</i>')"
      ]
     },
     "metadata": {},
     "output_type": "display_data"
    }
   ],
   "source": [
    "load_annotations()"
   ]
  },
  {
   "cell_type": "code",
   "execution_count": 8,
   "metadata": {},
   "outputs": [
    {
     "data": {
      "text/html": [
       "<div>\n",
       "<style scoped>\n",
       "    .dataframe tbody tr th:only-of-type {\n",
       "        vertical-align: middle;\n",
       "    }\n",
       "\n",
       "    .dataframe tbody tr th {\n",
       "        vertical-align: top;\n",
       "    }\n",
       "\n",
       "    .dataframe thead th {\n",
       "        text-align: right;\n",
       "    }\n",
       "</style>\n",
       "<table border=\"1\" class=\"dataframe\">\n",
       "  <thead>\n",
       "    <tr style=\"text-align: right;\">\n",
       "      <th></th>\n",
       "      <th>id</th>\n",
       "      <th>label</th>\n",
       "      <th>date_annotated</th>\n",
       "    </tr>\n",
       "  </thead>\n",
       "  <tbody>\n",
       "    <tr>\n",
       "      <th>0</th>\n",
       "      <td>1</td>\n",
       "      <td>positive</td>\n",
       "      <td>2020-08-07 17:45:45</td>\n",
       "    </tr>\n",
       "    <tr>\n",
       "      <th>1</th>\n",
       "      <td>2</td>\n",
       "      <td>neutral</td>\n",
       "      <td>2020-08-07 17:45:49</td>\n",
       "    </tr>\n",
       "    <tr>\n",
       "      <th>2</th>\n",
       "      <td>3</td>\n",
       "      <td>None</td>\n",
       "      <td>2020-08-07 17:45:53</td>\n",
       "    </tr>\n",
       "  </tbody>\n",
       "</table>\n",
       "</div>"
      ],
      "text/plain": [
       "  id     label       date_annotated\n",
       "0  1  positive  2020-08-07 17:45:45\n",
       "1  2   neutral  2020-08-07 17:45:49\n",
       "2  3      None  2020-08-07 17:45:53"
      ]
     },
     "execution_count": 8,
     "metadata": {},
     "output_type": "execute_result"
    }
   ],
   "source": [
    "annotations"
   ]
  },
  {
   "cell_type": "code",
   "execution_count": null,
   "metadata": {},
   "outputs": [],
   "source": []
  }
 ],
 "metadata": {
  "kernelspec": {
   "display_name": "Python 3",
   "language": "python",
   "name": "python3"
  },
  "language_info": {
   "codemirror_mode": {
    "name": "ipython",
    "version": 3
   },
   "file_extension": ".py",
   "mimetype": "text/x-python",
   "name": "python",
   "nbconvert_exporter": "python",
   "pygments_lexer": "ipython3",
   "version": "3.7.3"
  }
 },
 "nbformat": 4,
 "nbformat_minor": 4
}
