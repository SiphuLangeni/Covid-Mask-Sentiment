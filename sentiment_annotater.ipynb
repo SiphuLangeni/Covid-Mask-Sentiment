{
 "cells": [
  {
   "cell_type": "code",
   "execution_count": 15,
   "metadata": {},
   "outputs": [],
   "source": [
    "import pandas as pd\n",
    "from datetime import datetime\n",
    "import ipywidgets as widgets\n",
    "from ipywidgets import HTML, interactive\n",
    "from IPython.display import display, clear_output"
   ]
  },
  {
   "cell_type": "markdown",
   "metadata": {},
   "source": [
    "Created a pandas dataframe from Postgres database  \n",
    "df = pd.read_sql_query('select * from \"tweets\"', con=engine)  \n",
    "Saved as csv"
   ]
  },
  {
   "cell_type": "code",
   "execution_count": null,
   "metadata": {},
   "outputs": [],
   "source": [
    "df = pd.read_csv('df.csv')"
   ]
  },
  {
   "cell_type": "code",
   "execution_count": null,
   "metadata": {},
   "outputs": [],
   "source": [
    "df.head()"
   ]
  },
  {
   "cell_type": "markdown",
   "metadata": {},
   "source": [
    "Function the chooses a number of text items to annotate.\n",
    "* consider random selection\n",
    "* consider if already selected, how do you not select it again (if id not in annotation_df.id)\n",
    "* use widgets to impute data into the function text widget and slider"
   ]
  },
  {
   "cell_type": "code",
   "execution_count": 19,
   "metadata": {},
   "outputs": [],
   "source": [
    "def subset_df(df, primary_key, text_column, num_records, random=False):\n",
    "    '''\n",
    "    Subsets the dataframe by the primary key and text columns with a chosen number of records.\n",
    "    '''\n",
    "    try:\n",
    "        subset_df = df[~annotations['id'].isin(leave_out)]\n",
    "    except Exception:\n",
    "        pass\n",
    "   \n",
    "    if random:\n",
    "        subset_df = df.sample(n=num_records)[[primary_key, text_column]]\n",
    "    else:\n",
    "        subset_df = df[[primary_key, text_column]][:num_records]\n",
    "    \n",
    "    return subset_df"
   ]
  },
  {
   "cell_type": "code",
   "execution_count": null,
   "metadata": {
    "scrolled": true
   },
   "outputs": [],
   "source": [
    "subset_df = subset_df(df, 'id', 'tweet', 3, random=True) \n",
    "subset_df.head()"
   ]
  },
  {
   "cell_type": "code",
   "execution_count": null,
   "metadata": {
    "scrolled": true
   },
   "outputs": [],
   "source": [
    "try:\n",
    "    annotations = annotations\n",
    "    \n",
    "except:\n",
    "    columns = ['id','label','date_annotated']\n",
    "    annotations = pd.DataFrame(columns=columns)\n",
    "    \n",
    "annotation_index = 0\n",
    "\n",
    "label = []\n",
    "date_annotated = []\n",
    "\n",
    "def show_progress(annotation_index, num_records):\n",
    "        progress_bar = widgets.IntProgress(\n",
    "            value=annotation_index + 1,\n",
    "            min=1,\n",
    "            max=num_records,\n",
    "            step=1,\n",
    "            description=f'Progress {annotation_index + 1}/{num_records}',\n",
    "            bar_style='',\n",
    "            orientation='horizontal'\n",
    "        )\n",
    "        \n",
    "        return progress_bar\n",
    "\n",
    "def load_annotations():\n",
    "    '''\n",
    "    Displays texts to be annotated and loads user inputted labels and timestamp to dataframe.\n",
    "    '''\n",
    "    \n",
    "    instructions = widgets.HTML(\"<b>Click on the appropriate sentiment for the text below:</b>\")\n",
    "    text = HTML(subset_df.iloc[annotation_index, 1])\n",
    "    positive_button = widgets.Button(description='Positive')\n",
    "    negative_button = widgets.Button(description='Negative')\n",
    "    neutral_button = widgets.Button(description='Neutral')\n",
    "    skip_button = widgets.Button(description='Skip')\n",
    "    confirm_button = widgets.Button(description='Confirm selection')\n",
    "    redo_button = widgets.Button(description='Try again')\n",
    "    progress_bar = show_progress(annotation_index, len(subset_df))\n",
    "    sentiment_buttons = widgets.HBox([positive_button, negative_button, neutral_button, skip_button])\n",
    "    confirmation_buttons = widgets.HBox([confirm_button, redo_button])\n",
    "    output = widgets.Output()\n",
    "\n",
    "    display(instructions, text, sentiment_buttons, confirmation_buttons, output, progress_bar)\n",
    "    confirmation_buttons.layout.visibility = 'hidden'    \n",
    "\n",
    "\n",
    "    def sentiment_button_clicked(button):\n",
    "        label.append(str(button.description).lower())\n",
    "        date_annotated.append(datetime.now().strftime('%Y-%m-%d %H:%M:%S'))\n",
    "        \n",
    "        with output:\n",
    "            clear_output(True)\n",
    "            sentiment_buttons.layout.visibility = 'hidden'\n",
    "            print('The text has', str(button.description).lower(), 'sentiment.')\n",
    "            confirmation_buttons.layout.visibility = 'visible'\n",
    "\n",
    "    positive_button.on_click(sentiment_button_clicked)\n",
    "    negative_button.on_click(sentiment_button_clicked)\n",
    "    neutral_button.on_click(sentiment_button_clicked)\n",
    "    \n",
    "    def skip_button_clicked(button):\n",
    "        label.append(None)\n",
    "        date_annotated.append(datetime.now().strftime('%Y-%m-%d %H:%M:%S'))\n",
    "        \n",
    "        with output:\n",
    "            clear_output(True)\n",
    "            sentiment_buttons.layout.visibility = 'hidden'\n",
    "            print('This action will add a Null value to the label for this record.')\n",
    "            confirmation_buttons.layout.visibility = 'visible'\n",
    "        \n",
    "    skip_button.on_click(skip_button_clicked)\n",
    "\n",
    "    def confirm_button_clicked(button):\n",
    "        global annotation_index\n",
    "        global annotations\n",
    "        if annotation_index < len(subset_df) - 1:\n",
    "            annotation_index += 1\n",
    "            clear_output(True)\n",
    "            load_annotations()\n",
    "        else:\n",
    "            clear_output(True)\n",
    "            display(HTML('<h3>Annotations are done.</h3><br><i>annotation_df = new_df will bring up your annotations.</i>'))\n",
    "            display(progress_bar)\n",
    "            new_df = pd.DataFrame({\n",
    "                'id': subset_df.iloc[:, 0].tolist(),\n",
    "                'label': label,\n",
    "                'date_annotated': date_annotated\n",
    "            })\n",
    "            annotations = annotations.append(new_df)\n",
    "            \n",
    "\n",
    "    confirm_button.on_click(confirm_button_clicked)\n",
    "    \n",
    "    def redo_button_clicked(button):\n",
    "        del label[-1]\n",
    "        del date_annotated[-1]\n",
    "        with output:\n",
    "            clear_output(True)\n",
    "            sentiment_buttons.layout.visibility = 'visible'\n",
    "            print('Please try again.')\n",
    "            confirmation_buttons.layout.visibility = 'hidden'\n",
    "            \n",
    "\n",
    "    redo_button.on_click(redo_button_clicked)"
   ]
  },
  {
   "cell_type": "markdown",
   "metadata": {},
   "source": [
    "This will provide a user interface to annotate tweets.  \n",
    "* add a progress bar to show progress of annotations"
   ]
  },
  {
   "cell_type": "code",
   "execution_count": null,
   "metadata": {},
   "outputs": [],
   "source": []
  }
 ],
 "metadata": {
  "kernelspec": {
   "display_name": "Python 3",
   "language": "python",
   "name": "python3"
  },
  "language_info": {
   "codemirror_mode": {
    "name": "ipython",
    "version": 3
   },
   "file_extension": ".py",
   "mimetype": "text/x-python",
   "name": "python",
   "nbconvert_exporter": "python",
   "pygments_lexer": "ipython3",
   "version": "3.7.3"
  }
 },
 "nbformat": 4,
 "nbformat_minor": 4
}
